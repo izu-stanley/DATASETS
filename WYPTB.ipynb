{
  "nbformat": 4,
  "nbformat_minor": 0,
  "metadata": {
    "colab": {
      "name": "WYPTB.ipynb",
      "version": "0.3.2",
      "provenance": [],
      "collapsed_sections": []
    },
    "kernelspec": {
      "name": "python3",
      "display_name": "Python 3"
    }
  },
  "cells": [
    {
      "cell_type": "code",
      "metadata": {
        "id": "sp2YXnsweriE",
        "colab_type": "code",
        "colab": {}
      },
      "source": [
        "import requests\n",
        "from bs4 import BeautifulSoup\n",
        "import time"
      ],
      "execution_count": 0,
      "outputs": []
    },
    {
      "cell_type": "code",
      "metadata": {
        "id": "JrigCxYxfFWl",
        "colab_type": "code",
        "colab": {}
      },
      "source": [
        "def WYPTB(page_id):\n",
        "    url = \"http://willyoupressthebutton.com/\" + str(page_id) + \"/stats/yes\"\n",
        "    data = requests.get(url)\n",
        "    if data.status_code == 200:\n",
        "        soup = BeautifulSoup(data.text)\n",
        "        condition = soup.find('div',{'id':'cond'})\n",
        "        condition = condition.text.lstrip().rstrip()\n",
        "        result = soup.find('div',{'id':'res'})\n",
        "        result = result.text.lstrip().rstrip()\n",
        "        num_pressed = soup.find('span',{'class':'statsBarLeft'})\n",
        "        num_pressed = num_pressed.text.lstrip().rstrip()\n",
        "        num_not_pressed = soup.find('span',{'class':'statsBarRight'})\n",
        "        num_not_pressed = num_not_pressed.text.lstrip().rstrip()\n",
        "        return [condition,result,num_pressed,num_not_pressed,page_id]\n",
        "    else:\n",
        "        return('Error, status code:',data.status_code)\n",
        " \n"
      ],
      "execution_count": 0,
      "outputs": []
    },
    {
      "cell_type": "code",
      "metadata": {
        "id": "PGkU7vypzk5Q",
        "colab_type": "code",
        "colab": {}
      },
      "source": [
        "condition = []\n",
        "result = []\n",
        "pressed = []\n",
        "not_pressed = []\n",
        "page_id = []"
      ],
      "execution_count": 0,
      "outputs": []
    },
    {
      "cell_type": "code",
      "metadata": {
        "id": "eWOpjyVqfS-v",
        "colab_type": "code",
        "colab": {}
      },
      "source": [
        "#x=25\n",
        "for x in range(1,470000):\n",
        "    data = WYPTB(x)\n",
        "    #print(data)\n",
        "    if len(data) == 5:\n",
        "        condition.append(data[0])\n",
        "        result.append(data[1])\n",
        "        pressed.append(data[2])\n",
        "        not_pressed.append(data[3])\n",
        "        page_id.append(data[4])\n",
        "    else:\n",
        "      pass\n",
        "    if x % 1000 == 0:\n",
        "      print('Done with: ',x,data)"
      ],
      "execution_count": 0,
      "outputs": []
    },
    {
      "cell_type": "code",
      "metadata": {
        "id": "vvNULNBzp_Sp",
        "colab_type": "code",
        "outputId": "64835fdb-3fb6-413e-8db3-21a839dd003b",
        "colab": {
          "base_uri": "https://localhost:8080/",
          "height": 34
        }
      },
      "source": [
        "len(condition)"
      ],
      "execution_count": 0,
      "outputs": [
        {
          "output_type": "execute_result",
          "data": {
            "text/plain": [
              "470000"
            ]
          },
          "metadata": {
            "tags": []
          },
          "execution_count": 10
        }
      ]
    },
    {
      "cell_type": "code",
      "metadata": {
        "id": "W_DQYr0HtTp2",
        "colab_type": "code",
        "outputId": "8d5527ea-ca12-4135-a418-30f66b377284",
        "colab": {
          "base_uri": "https://localhost:8080/",
          "height": 497
        }
      },
      "source": [
        "import pandas as  pd\n",
        "df = pd.DataFrame({'conditions':condition,'results':result,'no_pressed':pressed,'no_not_pressed':not_pressed,'page_id':page_id})\n",
        "df.to_csv('WYPTB.csv',index=False)\n",
        "df.head()"
      ],
      "execution_count": 0,
      "outputs": [
        {
          "output_type": "execute_result",
          "data": {
            "text/html": [
              "<div>\n",
              "<style scoped>\n",
              "    .dataframe tbody tr th:only-of-type {\n",
              "        vertical-align: middle;\n",
              "    }\n",
              "\n",
              "    .dataframe tbody tr th {\n",
              "        vertical-align: top;\n",
              "    }\n",
              "\n",
              "    .dataframe thead th {\n",
              "        text-align: right;\n",
              "    }\n",
              "</style>\n",
              "<table border=\"1\" class=\"dataframe\">\n",
              "  <thead>\n",
              "    <tr style=\"text-align: right;\">\n",
              "      <th></th>\n",
              "      <th>conditions</th>\n",
              "      <th>no_not_pressed</th>\n",
              "      <th>no_pressed</th>\n",
              "      <th>page_id</th>\n",
              "      <th>results</th>\n",
              "    </tr>\n",
              "  </thead>\n",
              "  <tbody>\n",
              "    <tr>\n",
              "      <th>0</th>\n",
              "      <td>You can get a free coffee from Starbucks</td>\n",
              "      <td>18569 (20%)</td>\n",
              "      <td>74632 (80%)</td>\n",
              "      <td>25</td>\n",
              "      <td>you have to donate some money to a homeless</td>\n",
              "    </tr>\n",
              "    <tr>\n",
              "      <th>1</th>\n",
              "      <td>A jew is burned</td>\n",
              "      <td>4814 (78%)</td>\n",
              "      <td>1355 (22%)</td>\n",
              "      <td>26</td>\n",
              "      <td>A Norwegian teenager is raped</td>\n",
              "    </tr>\n",
              "    <tr>\n",
              "      <th>2</th>\n",
              "      <td>Barrack Obama dies</td>\n",
              "      <td>63086 (65%)</td>\n",
              "      <td>33846 (35%)</td>\n",
              "      <td>27</td>\n",
              "      <td>Poland starts ruling the world</td>\n",
              "    </tr>\n",
              "    <tr>\n",
              "      <th>3</th>\n",
              "      <td>You get a yacht</td>\n",
              "      <td>56062 (55%)</td>\n",
              "      <td>46161 (45%)</td>\n",
              "      <td>28</td>\n",
              "      <td>but you have to become a vegetarian</td>\n",
              "    </tr>\n",
              "    <tr>\n",
              "      <th>4</th>\n",
              "      <td>You are able to fly</td>\n",
              "      <td>48404 (52%)</td>\n",
              "      <td>44111 (48%)</td>\n",
              "      <td>29</td>\n",
              "      <td>you loose your best friend</td>\n",
              "    </tr>\n",
              "  </tbody>\n",
              "</table>\n",
              "</div>"
            ],
            "text/plain": [
              "                                 conditions no_not_pressed   no_pressed  \\\n",
              "0  You can get a free coffee from Starbucks    18569 (20%)  74632 (80%)   \n",
              "1                           A jew is burned     4814 (78%)   1355 (22%)   \n",
              "2                        Barrack Obama dies    63086 (65%)  33846 (35%)   \n",
              "3                           You get a yacht    56062 (55%)  46161 (45%)   \n",
              "4                       You are able to fly    48404 (52%)  44111 (48%)   \n",
              "\n",
              "   page_id                                      results  \n",
              "0       25  you have to donate some money to a homeless  \n",
              "1       26                A Norwegian teenager is raped  \n",
              "2       27               Poland starts ruling the world  \n",
              "3       28          but you have to become a vegetarian  \n",
              "4       29                   you loose your best friend  "
            ]
          },
          "metadata": {
            "tags": []
          },
          "execution_count": 11
        }
      ]
    },
    {
      "cell_type": "code",
      "metadata": {
        "id": "3dfOxf3Ac4Wd",
        "colab_type": "code",
        "outputId": "851f2777-21f7-42c1-ae8f-40ba6057ee99",
        "colab": {
          "base_uri": "https://localhost:8080/",
          "height": 157
        }
      },
      "source": [
        "ls -lah"
      ],
      "execution_count": 0,
      "outputs": [
        {
          "output_type": "stream",
          "text": [
            "total 361M\n",
            "drwxr-xr-x 1 root root 4.0K Mar 16 07:42 \u001b[0m\u001b[01;34m.\u001b[0m/\n",
            "drwxr-xr-x 1 root root 4.0K Mar 16 02:36 \u001b[01;34m..\u001b[0m/\n",
            "drwxr-xr-x 1 root root 4.0K Mar  8 17:25 \u001b[01;34m.config\u001b[0m/\n",
            "drwxr-xr-x 1 root root 4.0K Mar  8 17:26 \u001b[01;34msample_data\u001b[0m/\n",
            "-rw-r--r-- 1 root root 282M Mar 16 07:39 WYPTB_comments_2.json\n",
            "-rw-r--r-- 1 root root  80M Mar 16 13:30 WYPTB.csv\n"
          ],
          "name": "stdout"
        }
      ]
    }
  ]
}
