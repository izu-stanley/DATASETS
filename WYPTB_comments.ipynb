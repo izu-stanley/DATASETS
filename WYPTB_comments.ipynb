{
  "nbformat": 4,
  "nbformat_minor": 0,
  "metadata": {
    "colab": {
      "name": "WYPTB_comments.ipynb",
      "version": "0.3.2",
      "provenance": [],
      "collapsed_sections": []
    },
    "kernelspec": {
      "name": "python3",
      "display_name": "Python 3"
    }
  },
  "cells": [
    {
      "cell_type": "code",
      "metadata": {
        "id": "ncD29LsqwlWw",
        "colab_type": "code",
        "colab": {}
      },
      "source": [
        "import requests\n",
        "from bs4 import BeautifulSoup\n",
        "import time\n",
        "comments=[]\n",
        "\n",
        "for page_id in range(1,150000):\n",
        "    comment_id = 0\n",
        "    while True:\n",
        "        comment_url = 'https://api4.fobreg.com/api/comments/get/WYPTB/' + str(page_id) + '/' +str(comment_id)\n",
        "        data = requests.get(comment_url)\n",
        "        time.sleep(1)\n",
        "        data =  data.json()\n",
        "        if len(data['data']) == 0:\n",
        "            break\n",
        "        else:\n",
        "            comments.append([page_id,data])\n",
        "            comment_id = comment_id + 1\n",
        "    if page_id % 500 == 0:\n",
        "           print(page_id,data)\n",
        "   "
      ],
      "execution_count": 0,
      "outputs": []
    },
    {
      "cell_type": "code",
      "metadata": {
        "id": "p10hV-bTADXP",
        "colab_type": "code",
        "outputId": "44891015-b3ac-4c8c-9056-103625ace28e",
        "colab": {
          "base_uri": "https://localhost:8080/",
          "height": 34
        }
      },
      "source": [
        "page_id"
      ],
      "execution_count": 0,
      "outputs": [
        {
          "output_type": "execute_result",
          "data": {
            "text/plain": [
              "20781"
            ]
          },
          "metadata": {
            "tags": []
          },
          "execution_count": 6
        }
      ]
    },
    {
      "cell_type": "code",
      "metadata": {
        "id": "f83-e46N36ho",
        "colab_type": "code",
        "outputId": "f64d759e-5894-419d-8ff4-97ca430d364b",
        "colab": {
          "base_uri": "https://localhost:8080/",
          "height": 187
        }
      },
      "source": [
        "!ls -lah"
      ],
      "execution_count": 0,
      "outputs": [
        {
          "output_type": "stream",
          "text": [
            "total 704M\n",
            "drwxr-xr-x 1 root root 4.0K Mar 21 06:46 .\n",
            "drwxr-xr-x 1 root root 4.0K Mar 20 19:42 ..\n",
            "-rw-r--r-- 1 root root  37M Mar 21 06:43 193249.csv\n",
            "drwxr-xr-x 1 root root 4.0K Mar  8 17:25 .config\n",
            "-rwxrwxrwx 1 root root 7.5M Apr 24  2017 gdrive-linux-x64\n",
            "-rw-r--r-- 1 root root 2.2M Jul 21  2017 gdrive-linux-x64.zip\n",
            "drwxr-xr-x 1 root root 4.0K Mar  8 17:26 sample_data\n",
            "-rw-r--r-- 1 root root 562M Mar 21 06:46 WYPTB_comments_4.json\n",
            "-rw-r--r-- 1 root root  97M Mar 21 06:46 WYPTB_comments_.json\n"
          ],
          "name": "stdout"
        }
      ]
    },
    {
      "cell_type": "code",
      "metadata": {
        "id": "qjaSrZH_2N9o",
        "colab_type": "code",
        "colab": {}
      },
      "source": [
        "import json\n",
        "with open('WYPTB_comments_4.json', 'w') as outfile:\n",
        "    json.dump(j, outfile,indent=4)\n",
        "\n"
      ],
      "execution_count": 0,
      "outputs": []
    },
    {
      "cell_type": "code",
      "metadata": {
        "id": "r1PjPcPdcIix",
        "colab_type": "code",
        "colab": {}
      },
      "source": [
        ""
      ],
      "execution_count": 0,
      "outputs": []
    }
  ]
}
